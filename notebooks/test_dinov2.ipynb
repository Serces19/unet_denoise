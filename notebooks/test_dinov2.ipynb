{
 "cells": [
  {
   "cell_type": "code",
   "execution_count": 53,
   "id": "d56ed343",
   "metadata": {},
   "outputs": [
    {
     "name": "stdout",
     "output_type": "stream",
     "text": [
      "Cargando el modelo DINOv2 (dinov2_vit14)...\n"
     ]
    },
    {
     "name": "stderr",
     "output_type": "stream",
     "text": [
      "Using cache found in C:\\Users\\sergi/.cache\\torch\\hub\\facebookresearch_dinov2_main\n",
      "Downloading: \"https://dl.fbaipublicfiles.com/dinov2/dinov2_vitb14/dinov2_vitb14_pretrain.pth\" to C:\\Users\\sergi/.cache\\torch\\hub\\checkpoints\\dinov2_vitb14_pretrain.pth\n",
      "100%|██████████| 330M/330M [00:31<00:00, 10.9MB/s] \n"
     ]
    },
    {
     "name": "stdout",
     "output_type": "stream",
     "text": [
      "Modelo cargado en: cuda\n"
     ]
    }
   ],
   "source": [
    "import torch\n",
    "from PIL import Image\n",
    "import requests\n",
    "import matplotlib.pyplot as plt\n",
    "from sklearn.metrics.pairwise import cosine_similarity\n",
    "import numpy as np\n",
    "import os\n",
    "from torchvision import transforms\n",
    "from pathlib import Path\n",
    "import timm\n",
    "\n",
    "\n",
    "# --- 1. Cargar el Modelo y Preparar las Transformaciones ---\n",
    "print(\"Cargando el modelo DINOv2 (dinov2_vit14)...\")\n",
    "dinov2 = torch.hub.load('facebookresearch/dinov2', 'dinov2_vitb14')\n",
    "device = torch.device('cuda' if torch.cuda.is_available() else 'cpu')\n",
    "dinov2.to(device)\n",
    "dinov2.eval() # Poner el modelo en modo de evaluación\n",
    "print(f\"Modelo cargado en: {device}\")\n",
    "\n",
    "transform_image = transforms.Compose([\n",
    "    transforms.Resize(518, interpolation=transforms.InterpolationMode.BICUBIC),\n",
    "    transforms.CenterCrop(518),\n",
    "    transforms.ToTensor(),\n",
    "    transforms.Normalize(mean=(0.485, 0.456, 0.406), std=(0.229, 0.224, 0.225)),\n",
    "])"
   ]
  },
  {
   "cell_type": "code",
   "execution_count": 15,
   "id": "7c59aead",
   "metadata": {},
   "outputs": [],
   "source": [
    "def get_image_embedding(image_path):\n",
    "    \"\"\"Procesa una imagen y devuelve su embedding global [CLS].\"\"\"\n",
    "    img = Image.open(image_path).convert(\"RGB\")\n",
    "    img_tensor = transform_image(img).unsqueeze(0).to(device)\n",
    "    with torch.no_grad():\n",
    "        # DINOv2 devuelve tanto el token [CLS] como los tokens de parche.\n",
    "        # Para la semántica global, usamos el [CLS] que es el primero.\n",
    "        features = dinov2(img_tensor)\n",
    "        cls_embedding = features[0] # Shape: [1, 384]\n",
    "    return cls_embedding.cpu().numpy()\n"
   ]
  },
  {
   "cell_type": "code",
   "execution_count": 55,
   "id": "dc6fc3ce",
   "metadata": {},
   "outputs": [
    {
     "name": "stdout",
     "output_type": "stream",
     "text": [
      "\n",
      "--- Ejecutando Búsqueda Semántica ---\n",
      "Comparando con 'img_1.png'... Similitud Coseno: 0.0032\n",
      "Comparando con 'img_10.png'... Similitud Coseno: 0.0758\n",
      "Comparando con 'img_11.png'... Similitud Coseno: 0.1027\n",
      "Comparando con 'img_12.png'... Similitud Coseno: -0.0206\n",
      "Comparando con 'img_2.jpg'... Similitud Coseno: 0.0302\n",
      "Comparando con 'img_3.jpg'... Similitud Coseno: 0.3192\n",
      "Comparando con 'img_4.jpg'... Similitud Coseno: 0.2721\n",
      "Comparando con 'img_5.png'... Similitud Coseno: 0.0921\n",
      "Comparando con 'img_6.png'... Similitud Coseno: 0.0625\n",
      "Comparando con 'img_7.png'... Similitud Coseno: 0.0202\n",
      "Comparando con 'img_8.png'... Similitud Coseno: 0.1009\n",
      "Comparando con 'img_9.png'... Similitud Coseno: 0.0237\n",
      "\n",
      "--- Resultado ---\n",
      "La imagen de consulta es: 'img_0.jpg'\n",
      "La imagen más similar semánticamente es: 'img_3.jpg' con una puntuación de 0.3192\n"
     ]
    }
   ],
   "source": [
    "\n",
    "# --- 2. Sistema de Comparación Semántica ---\n",
    "def run_semantic_search(gallery_folder, query_image_path):\n",
    "    print(\"\\n--- Ejecutando Búsqueda Semántica ---\")\n",
    "    \n",
    "    # Asegúrate de que esta carpeta exista y tenga imágenes\n",
    "    gallery_image_paths = [\n",
    "        str(Path(gallery_folder) / f)\n",
    "        for f in os.listdir(gallery_folder)\n",
    "        if f.lower().endswith(('jpg', 'png', 'jpeg'))\n",
    "    ]\n",
    "\n",
    "    # Obtener Embeddings de la imagen query\n",
    "    query_embedding = get_image_embedding(query_image_path)\n",
    "    \n",
    "    best_match_path = None\n",
    "    highest_similarity = -1\n",
    "\n",
    "    for path in gallery_image_paths:\n",
    "        # No comparar una imagen consigo misma\n",
    "        if Path(path).resolve() == Path(query_image_path).resolve():\n",
    "            continue\n",
    "            \n",
    "        gallery_embedding = get_image_embedding(path)\n",
    "        query_embedding = query_embedding.reshape(1, -1)\n",
    "        gallery_embedding = gallery_embedding.reshape(1, -1)\n",
    "        similarity = cosine_similarity(query_embedding, gallery_embedding)[0][0]\n",
    "        \n",
    "        print(f\"Comparando con '{os.path.basename(path)}'... Similitud Coseno: {similarity:.4f}\")\n",
    "        \n",
    "        if similarity > highest_similarity:\n",
    "            highest_similarity = similarity\n",
    "            best_match_path = path\n",
    "\n",
    "    print(\"\\n--- Resultado ---\")\n",
    "    print(f\"La imagen de consulta es: '{os.path.basename(query_image_path)}'\")\n",
    "    if best_match_path:\n",
    "        print(f\"La imagen más similar semánticamente es: '{os.path.basename(best_match_path)}' con una puntuación de {highest_similarity:.4f}\")\n",
    "    else:\n",
    "        print(\"No se encontraron otras imágenes para comparar.\")\n",
    "\n",
    "\n",
    "run_semantic_search( \"../data/imgs\", '../data/imgs/img_0.jpg')\n"
   ]
  },
  {
   "cell_type": "code",
   "execution_count": 26,
   "id": "f7722e32",
   "metadata": {},
   "outputs": [
    {
     "name": "stdout",
     "output_type": "stream",
     "text": [
      "\n",
      "--- Visualizando Embedding de un Parche ---\n",
      "image shape (384,)\n"
     ]
    },
    {
     "data": {
      "image/png": "[encoded data removed]",
      "text/plain": [
       "<Figure size 1500x500 with 1 Axes>"
      ]
     },
     "metadata": {},
     "output_type": "display_data"
    }
   ],
   "source": [
    "# --- 3. Visualización de Embedding de un Parche (Gráfico de Barras) ---\n",
    "def run_embedding_visualization(image_path):\n",
    "    print(\"\\n--- Visualizando Embedding de un Parche ---\")\n",
    "    # Nota: Visualizar un vector de 384 dimensiones como barras no es muy informativo,\n",
    "    # pero sirve para ver la \"firma\" numérica de un parche.\n",
    "    img_embedding = get_image_embedding(image_path)\n",
    "    print(f'image shape {img_embedding.shape}')\n",
    "    plt.figure(figsize=(15, 5))\n",
    "    plt.bar(range(len(img_embedding)), img_embedding)\n",
    "    plt.title(\"Visualización del Embedding Global (384 dimensiones)\")\n",
    "    plt.xlabel(\"Dimensión del Embedding\")\n",
    "    plt.ylabel(\"Valor\")\n",
    "    plt.tight_layout()\n",
    "    plt.show()\n",
    "\n",
    "\n",
    "run_embedding_visualization('../data/imgs/img_1.png')"
   ]
  },
  {
   "cell_type": "code",
   "execution_count": 47,
   "id": "50f71126",
   "metadata": {},
   "outputs": [
    {
     "name": "stdout",
     "output_type": "stream",
     "text": [
      "\n",
      "--- Visualizando Mapa de Atención (con Monkey-Patching) ---\n"
     ]
    },
    {
     "ename": "IndexError",
     "evalue": "index 1 is out of bounds for dimension 0 with size 1",
     "output_type": "error",
     "traceback": [
      "\u001b[1;31m---------------------------------------------------------------------------\u001b[0m",
      "\u001b[1;31mIndexError\u001b[0m                                Traceback (most recent call last)",
      "Cell \u001b[1;32mIn[47], line 77\u001b[0m\n\u001b[0;32m     74\u001b[0m     plt\u001b[38;5;241m.\u001b[39mclose()\n\u001b[0;32m     76\u001b[0m \u001b[38;5;66;03m# --- Llamada a la función ---\u001b[39;00m\n\u001b[1;32m---> 77\u001b[0m \u001b[43mrun_attention_map_visualization\u001b[49m\u001b[43m(\u001b[49m\u001b[38;5;124;43m'\u001b[39;49m\u001b[38;5;124;43m../data/imgs/img_1.png\u001b[39;49m\u001b[38;5;124;43m'\u001b[39;49m\u001b[43m)\u001b[49m\n",
      "Cell \u001b[1;32mIn[47], line 38\u001b[0m, in \u001b[0;36mrun_attention_map_visualization\u001b[1;34m(image_path)\u001b[0m\n\u001b[0;32m     36\u001b[0m     \u001b[38;5;66;03m# 4. Ejecutar el forward pass. Esto llamará a nuestro 'new_forward' espía.\u001b[39;00m\n\u001b[0;32m     37\u001b[0m     \u001b[38;5;28;01mwith\u001b[39;00m torch\u001b[38;5;241m.\u001b[39mno_grad():\n\u001b[1;32m---> 38\u001b[0m         \u001b[43mdinov2\u001b[49m\u001b[43m(\u001b[49m\u001b[43mimg_tensor\u001b[49m\u001b[43m)\u001b[49m\n\u001b[0;32m     40\u001b[0m \u001b[38;5;28;01mfinally\u001b[39;00m:\n\u001b[0;32m     41\u001b[0m     \u001b[38;5;66;03m# 5. ¡MUY IMPORTANTE! Restaurar el método 'forward' original después de usarlo.\u001b[39;00m\n\u001b[0;32m     42\u001b[0m     \u001b[38;5;66;03m# Esto asegura que dejamos el modelo en su estado original.\u001b[39;00m\n\u001b[0;32m     43\u001b[0m     target_layer\u001b[38;5;241m.\u001b[39mforward \u001b[38;5;241m=\u001b[39m original_forward\n",
      "File \u001b[1;32m~\\AppData\\Roaming\\Python\\Python310\\site-packages\\torch\\nn\\modules\\module.py:1739\u001b[0m, in \u001b[0;36mModule._wrapped_call_impl\u001b[1;34m(self, *args, **kwargs)\u001b[0m\n\u001b[0;32m   1737\u001b[0m     \u001b[38;5;28;01mreturn\u001b[39;00m \u001b[38;5;28mself\u001b[39m\u001b[38;5;241m.\u001b[39m_compiled_call_impl(\u001b[38;5;241m*\u001b[39margs, \u001b[38;5;241m*\u001b[39m\u001b[38;5;241m*\u001b[39mkwargs)  \u001b[38;5;66;03m# type: ignore[misc]\u001b[39;00m\n\u001b[0;32m   1738\u001b[0m \u001b[38;5;28;01melse\u001b[39;00m:\n\u001b[1;32m-> 1739\u001b[0m     \u001b[38;5;28;01mreturn\u001b[39;00m \u001b[38;5;28mself\u001b[39m\u001b[38;5;241m.\u001b[39m_call_impl(\u001b[38;5;241m*\u001b[39margs, \u001b[38;5;241m*\u001b[39m\u001b[38;5;241m*\u001b[39mkwargs)\n",
      "File \u001b[1;32m~\\AppData\\Roaming\\Python\\Python310\\site-packages\\torch\\nn\\modules\\module.py:1750\u001b[0m, in \u001b[0;36mModule._call_impl\u001b[1;34m(self, *args, **kwargs)\u001b[0m\n\u001b[0;32m   1745\u001b[0m \u001b[38;5;66;03m# If we don't have any hooks, we want to skip the rest of the logic in\u001b[39;00m\n\u001b[0;32m   1746\u001b[0m \u001b[38;5;66;03m# this function, and just call forward.\u001b[39;00m\n\u001b[0;32m   1747\u001b[0m \u001b[38;5;28;01mif\u001b[39;00m \u001b[38;5;129;01mnot\u001b[39;00m (\u001b[38;5;28mself\u001b[39m\u001b[38;5;241m.\u001b[39m_backward_hooks \u001b[38;5;129;01mor\u001b[39;00m \u001b[38;5;28mself\u001b[39m\u001b[38;5;241m.\u001b[39m_backward_pre_hooks \u001b[38;5;129;01mor\u001b[39;00m \u001b[38;5;28mself\u001b[39m\u001b[38;5;241m.\u001b[39m_forward_hooks \u001b[38;5;129;01mor\u001b[39;00m \u001b[38;5;28mself\u001b[39m\u001b[38;5;241m.\u001b[39m_forward_pre_hooks\n\u001b[0;32m   1748\u001b[0m         \u001b[38;5;129;01mor\u001b[39;00m _global_backward_pre_hooks \u001b[38;5;129;01mor\u001b[39;00m _global_backward_hooks\n\u001b[0;32m   1749\u001b[0m         \u001b[38;5;129;01mor\u001b[39;00m _global_forward_hooks \u001b[38;5;129;01mor\u001b[39;00m _global_forward_pre_hooks):\n\u001b[1;32m-> 1750\u001b[0m     \u001b[38;5;28;01mreturn\u001b[39;00m forward_call(\u001b[38;5;241m*\u001b[39margs, \u001b[38;5;241m*\u001b[39m\u001b[38;5;241m*\u001b[39mkwargs)\n\u001b[0;32m   1752\u001b[0m result \u001b[38;5;241m=\u001b[39m \u001b[38;5;28;01mNone\u001b[39;00m\n\u001b[0;32m   1753\u001b[0m called_always_called_hooks \u001b[38;5;241m=\u001b[39m \u001b[38;5;28mset\u001b[39m()\n",
      "File \u001b[1;32m~/.cache\\torch\\hub\\facebookresearch_dinov2_main\\dinov2\\models\\vision_transformer.py:326\u001b[0m, in \u001b[0;36mDinoVisionTransformer.forward\u001b[1;34m(self, is_training, *args, **kwargs)\u001b[0m\n\u001b[0;32m    325\u001b[0m \u001b[38;5;28;01mdef\u001b[39;00m \u001b[38;5;21mforward\u001b[39m(\u001b[38;5;28mself\u001b[39m, \u001b[38;5;241m*\u001b[39margs, is_training\u001b[38;5;241m=\u001b[39m\u001b[38;5;28;01mFalse\u001b[39;00m, \u001b[38;5;241m*\u001b[39m\u001b[38;5;241m*\u001b[39mkwargs):\n\u001b[1;32m--> 326\u001b[0m     ret \u001b[38;5;241m=\u001b[39m \u001b[38;5;28mself\u001b[39m\u001b[38;5;241m.\u001b[39mforward_features(\u001b[38;5;241m*\u001b[39margs, \u001b[38;5;241m*\u001b[39m\u001b[38;5;241m*\u001b[39mkwargs)\n\u001b[0;32m    327\u001b[0m     \u001b[38;5;28;01mif\u001b[39;00m is_training:\n\u001b[0;32m    328\u001b[0m         \u001b[38;5;28;01mreturn\u001b[39;00m ret\n",
      "File \u001b[1;32m~/.cache\\torch\\hub\\facebookresearch_dinov2_main\\dinov2\\models\\vision_transformer.py:262\u001b[0m, in \u001b[0;36mDinoVisionTransformer.forward_features\u001b[1;34m(self, x, masks)\u001b[0m\n\u001b[0;32m    259\u001b[0m x \u001b[38;5;241m=\u001b[39m \u001b[38;5;28mself\u001b[39m\u001b[38;5;241m.\u001b[39mprepare_tokens_with_masks(x, masks)\n\u001b[0;32m    261\u001b[0m \u001b[38;5;28;01mfor\u001b[39;00m blk \u001b[38;5;129;01min\u001b[39;00m \u001b[38;5;28mself\u001b[39m\u001b[38;5;241m.\u001b[39mblocks:\n\u001b[1;32m--> 262\u001b[0m     x \u001b[38;5;241m=\u001b[39m \u001b[43mblk\u001b[49m\u001b[43m(\u001b[49m\u001b[43mx\u001b[49m\u001b[43m)\u001b[49m\n\u001b[0;32m    264\u001b[0m x_norm \u001b[38;5;241m=\u001b[39m \u001b[38;5;28mself\u001b[39m\u001b[38;5;241m.\u001b[39mnorm(x)\n\u001b[0;32m    265\u001b[0m \u001b[38;5;28;01mreturn\u001b[39;00m {\n\u001b[0;32m    266\u001b[0m     \u001b[38;5;124m\"\u001b[39m\u001b[38;5;124mx_norm_clstoken\u001b[39m\u001b[38;5;124m\"\u001b[39m: x_norm[:, \u001b[38;5;241m0\u001b[39m],\n\u001b[0;32m    267\u001b[0m     \u001b[38;5;124m\"\u001b[39m\u001b[38;5;124mx_norm_regtokens\u001b[39m\u001b[38;5;124m\"\u001b[39m: x_norm[:, \u001b[38;5;241m1\u001b[39m : \u001b[38;5;28mself\u001b[39m\u001b[38;5;241m.\u001b[39mnum_register_tokens \u001b[38;5;241m+\u001b[39m \u001b[38;5;241m1\u001b[39m],\n\u001b[1;32m   (...)\u001b[0m\n\u001b[0;32m    270\u001b[0m     \u001b[38;5;124m\"\u001b[39m\u001b[38;5;124mmasks\u001b[39m\u001b[38;5;124m\"\u001b[39m: masks,\n\u001b[0;32m    271\u001b[0m }\n",
      "File \u001b[1;32m~\\AppData\\Roaming\\Python\\Python310\\site-packages\\torch\\nn\\modules\\module.py:1739\u001b[0m, in \u001b[0;36mModule._wrapped_call_impl\u001b[1;34m(self, *args, **kwargs)\u001b[0m\n\u001b[0;32m   1737\u001b[0m     \u001b[38;5;28;01mreturn\u001b[39;00m \u001b[38;5;28mself\u001b[39m\u001b[38;5;241m.\u001b[39m_compiled_call_impl(\u001b[38;5;241m*\u001b[39margs, \u001b[38;5;241m*\u001b[39m\u001b[38;5;241m*\u001b[39mkwargs)  \u001b[38;5;66;03m# type: ignore[misc]\u001b[39;00m\n\u001b[0;32m   1738\u001b[0m \u001b[38;5;28;01melse\u001b[39;00m:\n\u001b[1;32m-> 1739\u001b[0m     \u001b[38;5;28;01mreturn\u001b[39;00m \u001b[38;5;28mself\u001b[39m\u001b[38;5;241m.\u001b[39m_call_impl(\u001b[38;5;241m*\u001b[39margs, \u001b[38;5;241m*\u001b[39m\u001b[38;5;241m*\u001b[39mkwargs)\n",
      "File \u001b[1;32m~\\AppData\\Roaming\\Python\\Python310\\site-packages\\torch\\nn\\modules\\module.py:1750\u001b[0m, in \u001b[0;36mModule._call_impl\u001b[1;34m(self, *args, **kwargs)\u001b[0m\n\u001b[0;32m   1745\u001b[0m \u001b[38;5;66;03m# If we don't have any hooks, we want to skip the rest of the logic in\u001b[39;00m\n\u001b[0;32m   1746\u001b[0m \u001b[38;5;66;03m# this function, and just call forward.\u001b[39;00m\n\u001b[0;32m   1747\u001b[0m \u001b[38;5;28;01mif\u001b[39;00m \u001b[38;5;129;01mnot\u001b[39;00m (\u001b[38;5;28mself\u001b[39m\u001b[38;5;241m.\u001b[39m_backward_hooks \u001b[38;5;129;01mor\u001b[39;00m \u001b[38;5;28mself\u001b[39m\u001b[38;5;241m.\u001b[39m_backward_pre_hooks \u001b[38;5;129;01mor\u001b[39;00m \u001b[38;5;28mself\u001b[39m\u001b[38;5;241m.\u001b[39m_forward_hooks \u001b[38;5;129;01mor\u001b[39;00m \u001b[38;5;28mself\u001b[39m\u001b[38;5;241m.\u001b[39m_forward_pre_hooks\n\u001b[0;32m   1748\u001b[0m         \u001b[38;5;129;01mor\u001b[39;00m _global_backward_pre_hooks \u001b[38;5;129;01mor\u001b[39;00m _global_backward_hooks\n\u001b[0;32m   1749\u001b[0m         \u001b[38;5;129;01mor\u001b[39;00m _global_forward_hooks \u001b[38;5;129;01mor\u001b[39;00m _global_forward_pre_hooks):\n\u001b[1;32m-> 1750\u001b[0m     \u001b[38;5;28;01mreturn\u001b[39;00m forward_call(\u001b[38;5;241m*\u001b[39margs, \u001b[38;5;241m*\u001b[39m\u001b[38;5;241m*\u001b[39mkwargs)\n\u001b[0;32m   1752\u001b[0m result \u001b[38;5;241m=\u001b[39m \u001b[38;5;28;01mNone\u001b[39;00m\n\u001b[0;32m   1753\u001b[0m called_always_called_hooks \u001b[38;5;241m=\u001b[39m \u001b[38;5;28mset\u001b[39m()\n",
      "File \u001b[1;32m~/.cache\\torch\\hub\\facebookresearch_dinov2_main\\dinov2\\layers\\block.py:310\u001b[0m, in \u001b[0;36mNestedTensorBlock.forward\u001b[1;34m(self, x_or_x_list)\u001b[0m\n\u001b[0;32m    308\u001b[0m \u001b[38;5;28;01mdef\u001b[39;00m \u001b[38;5;21mforward\u001b[39m(\u001b[38;5;28mself\u001b[39m, x_or_x_list):\n\u001b[0;32m    309\u001b[0m     \u001b[38;5;28;01mif\u001b[39;00m \u001b[38;5;28misinstance\u001b[39m(x_or_x_list, Tensor):\n\u001b[1;32m--> 310\u001b[0m         \u001b[38;5;28;01mreturn\u001b[39;00m \u001b[38;5;28;43msuper\u001b[39;49m\u001b[43m(\u001b[49m\u001b[43m)\u001b[49m\u001b[38;5;241;43m.\u001b[39;49m\u001b[43mforward\u001b[49m\u001b[43m(\u001b[49m\u001b[43mx_or_x_list\u001b[49m\u001b[43m)\u001b[49m\n\u001b[0;32m    311\u001b[0m     \u001b[38;5;28;01melif\u001b[39;00m \u001b[38;5;28misinstance\u001b[39m(x_or_x_list, \u001b[38;5;28mlist\u001b[39m):\n\u001b[0;32m    312\u001b[0m         \u001b[38;5;28;01mif\u001b[39;00m \u001b[38;5;129;01mnot\u001b[39;00m XFORMERS_AVAILABLE:\n",
      "File \u001b[1;32m~/.cache\\torch\\hub\\facebookresearch_dinov2_main\\dinov2\\layers\\block.py:112\u001b[0m, in \u001b[0;36mBlock.forward\u001b[1;34m(self, x)\u001b[0m\n\u001b[0;32m    110\u001b[0m     x \u001b[38;5;241m=\u001b[39m x \u001b[38;5;241m+\u001b[39m \u001b[38;5;28mself\u001b[39m\u001b[38;5;241m.\u001b[39mdrop_path1(ffn_residual_func(x))  \u001b[38;5;66;03m# FIXME: drop_path2\u001b[39;00m\n\u001b[0;32m    111\u001b[0m \u001b[38;5;28;01melse\u001b[39;00m:\n\u001b[1;32m--> 112\u001b[0m     x \u001b[38;5;241m=\u001b[39m x \u001b[38;5;241m+\u001b[39m \u001b[43mattn_residual_func\u001b[49m\u001b[43m(\u001b[49m\u001b[43mx\u001b[49m\u001b[43m)\u001b[49m\n\u001b[0;32m    113\u001b[0m     x \u001b[38;5;241m=\u001b[39m x \u001b[38;5;241m+\u001b[39m ffn_residual_func(x)\n\u001b[0;32m    114\u001b[0m \u001b[38;5;28;01mreturn\u001b[39;00m x\n",
      "File \u001b[1;32m~/.cache\\torch\\hub\\facebookresearch_dinov2_main\\dinov2\\layers\\block.py:91\u001b[0m, in \u001b[0;36mBlock.forward.<locals>.attn_residual_func\u001b[1;34m(x)\u001b[0m\n\u001b[0;32m     90\u001b[0m \u001b[38;5;28;01mdef\u001b[39;00m \u001b[38;5;21mattn_residual_func\u001b[39m(x: Tensor) \u001b[38;5;241m-\u001b[39m\u001b[38;5;241m>\u001b[39m Tensor:\n\u001b[1;32m---> 91\u001b[0m     \u001b[38;5;28;01mreturn\u001b[39;00m \u001b[38;5;28mself\u001b[39m\u001b[38;5;241m.\u001b[39mls1(\u001b[38;5;28;43mself\u001b[39;49m\u001b[38;5;241;43m.\u001b[39;49m\u001b[43mattn\u001b[49m\u001b[43m(\u001b[49m\u001b[38;5;28;43mself\u001b[39;49m\u001b[38;5;241;43m.\u001b[39;49m\u001b[43mnorm1\u001b[49m\u001b[43m(\u001b[49m\u001b[43mx\u001b[49m\u001b[43m)\u001b[49m\u001b[43m)\u001b[49m)\n",
      "File \u001b[1;32m~\\AppData\\Roaming\\Python\\Python310\\site-packages\\torch\\nn\\modules\\module.py:1739\u001b[0m, in \u001b[0;36mModule._wrapped_call_impl\u001b[1;34m(self, *args, **kwargs)\u001b[0m\n\u001b[0;32m   1737\u001b[0m     \u001b[38;5;28;01mreturn\u001b[39;00m \u001b[38;5;28mself\u001b[39m\u001b[38;5;241m.\u001b[39m_compiled_call_impl(\u001b[38;5;241m*\u001b[39margs, \u001b[38;5;241m*\u001b[39m\u001b[38;5;241m*\u001b[39mkwargs)  \u001b[38;5;66;03m# type: ignore[misc]\u001b[39;00m\n\u001b[0;32m   1738\u001b[0m \u001b[38;5;28;01melse\u001b[39;00m:\n\u001b[1;32m-> 1739\u001b[0m     \u001b[38;5;28;01mreturn\u001b[39;00m \u001b[38;5;28mself\u001b[39m\u001b[38;5;241m.\u001b[39m_call_impl(\u001b[38;5;241m*\u001b[39margs, \u001b[38;5;241m*\u001b[39m\u001b[38;5;241m*\u001b[39mkwargs)\n",
      "File \u001b[1;32m~\\AppData\\Roaming\\Python\\Python310\\site-packages\\torch\\nn\\modules\\module.py:1845\u001b[0m, in \u001b[0;36mModule._call_impl\u001b[1;34m(self, *args, **kwargs)\u001b[0m\n\u001b[0;32m   1842\u001b[0m     \u001b[38;5;28;01mreturn\u001b[39;00m inner()\n\u001b[0;32m   1844\u001b[0m \u001b[38;5;28;01mtry\u001b[39;00m:\n\u001b[1;32m-> 1845\u001b[0m     \u001b[38;5;28;01mreturn\u001b[39;00m \u001b[43minner\u001b[49m\u001b[43m(\u001b[49m\u001b[43m)\u001b[49m\n\u001b[0;32m   1846\u001b[0m \u001b[38;5;28;01mexcept\u001b[39;00m \u001b[38;5;167;01mException\u001b[39;00m:\n\u001b[0;32m   1847\u001b[0m     \u001b[38;5;66;03m# run always called hooks if they have not already been run\u001b[39;00m\n\u001b[0;32m   1848\u001b[0m     \u001b[38;5;66;03m# For now only forward hooks have the always_call option but perhaps\u001b[39;00m\n\u001b[0;32m   1849\u001b[0m     \u001b[38;5;66;03m# this functionality should be added to full backward hooks as well.\u001b[39;00m\n\u001b[0;32m   1850\u001b[0m     \u001b[38;5;28;01mfor\u001b[39;00m hook_id, hook \u001b[38;5;129;01min\u001b[39;00m _global_forward_hooks\u001b[38;5;241m.\u001b[39mitems():\n",
      "File \u001b[1;32m~\\AppData\\Roaming\\Python\\Python310\\site-packages\\torch\\nn\\modules\\module.py:1793\u001b[0m, in \u001b[0;36mModule._call_impl.<locals>.inner\u001b[1;34m()\u001b[0m\n\u001b[0;32m   1790\u001b[0m     bw_hook \u001b[38;5;241m=\u001b[39m BackwardHook(\u001b[38;5;28mself\u001b[39m, full_backward_hooks, backward_pre_hooks)\n\u001b[0;32m   1791\u001b[0m     args \u001b[38;5;241m=\u001b[39m bw_hook\u001b[38;5;241m.\u001b[39msetup_input_hook(args)\n\u001b[1;32m-> 1793\u001b[0m result \u001b[38;5;241m=\u001b[39m forward_call(\u001b[38;5;241m*\u001b[39margs, \u001b[38;5;241m*\u001b[39m\u001b[38;5;241m*\u001b[39mkwargs)\n\u001b[0;32m   1794\u001b[0m \u001b[38;5;28;01mif\u001b[39;00m _global_forward_hooks \u001b[38;5;129;01mor\u001b[39;00m \u001b[38;5;28mself\u001b[39m\u001b[38;5;241m.\u001b[39m_forward_hooks:\n\u001b[0;32m   1795\u001b[0m     \u001b[38;5;28;01mfor\u001b[39;00m hook_id, hook \u001b[38;5;129;01min\u001b[39;00m (\n\u001b[0;32m   1796\u001b[0m         \u001b[38;5;241m*\u001b[39m_global_forward_hooks\u001b[38;5;241m.\u001b[39mitems(),\n\u001b[0;32m   1797\u001b[0m         \u001b[38;5;241m*\u001b[39m\u001b[38;5;28mself\u001b[39m\u001b[38;5;241m.\u001b[39m_forward_hooks\u001b[38;5;241m.\u001b[39mitems(),\n\u001b[0;32m   1798\u001b[0m     ):\n\u001b[0;32m   1799\u001b[0m         \u001b[38;5;66;03m# mark that always called hook is run\u001b[39;00m\n",
      "Cell \u001b[1;32mIn[47], line 27\u001b[0m, in \u001b[0;36mrun_attention_map_visualization.<locals>.new_forward\u001b[1;34m(x)\u001b[0m\n\u001b[0;32m     24\u001b[0m output_tuple \u001b[38;5;241m=\u001b[39m original_forward(x)\n\u001b[0;32m     26\u001b[0m \u001b[38;5;66;03m# Guardamos los pesos de atención (el segundo elemento) en nuestra variable\u001b[39;00m\n\u001b[1;32m---> 27\u001b[0m attention_store \u001b[38;5;241m=\u001b[39m \u001b[43moutput_tuple\u001b[49m\u001b[43m[\u001b[49m\u001b[38;5;241;43m1\u001b[39;49m\u001b[43m]\u001b[49m\n\u001b[0;32m     29\u001b[0m \u001b[38;5;66;03m# Devolvemos solo el primer elemento, para que el resto de la red no se rompa\u001b[39;00m\n\u001b[0;32m     30\u001b[0m \u001b[38;5;28;01mreturn\u001b[39;00m output_tuple[\u001b[38;5;241m0\u001b[39m]\n",
      "\u001b[1;31mIndexError\u001b[0m: index 1 is out of bounds for dimension 0 with size 1"
     ]
    }
   ],
   "source": [
    "# Asumo que las celdas anteriores con el modelo, las transformaciones, etc., ya se han ejecutado.\n",
    "\n",
    "# --- 4. Visualización de Mapas de Atención (VERSIÓN FINAL CON MONKEY-PATCHING) ---\n",
    "\n",
    "# Variable global para almacenar la salida\n",
    "attention_store = None\n",
    "\n",
    "def run_attention_map_visualization(image_path):\n",
    "    print(\"\\n--- Visualizando Mapa de Atención (con Monkey-Patching) ---\")\n",
    "    img = Image.open(image_path).convert(\"RGB\")\n",
    "    img_tensor = transform_image(img).unsqueeze(0).to(device)\n",
    "\n",
    "    # La capa que nos interesa sigue siendo la misma\n",
    "    target_layer = dinov2.blocks[-1].attn\n",
    "\n",
    "    # 1. Guardar el método 'forward' original de la capa\n",
    "    original_forward = target_layer.forward\n",
    "\n",
    "    # 2. Definir un nuevo método 'forward' que actúe como un espía\n",
    "    def new_forward(x):\n",
    "        global attention_store\n",
    "        # Llama al método original para que la red funcione normalmente\n",
    "        # El resultado es una tupla (features, attention_weights)\n",
    "        output_tuple = original_forward(x)\n",
    "        \n",
    "        # Guardamos los pesos de atención (el segundo elemento) en nuestra variable\n",
    "        attention_store = output_tuple[1]\n",
    "        \n",
    "        # Devolvemos solo el primer elemento, para que el resto de la red no se rompa\n",
    "        return output_tuple[0]\n",
    "\n",
    "    try:\n",
    "        # 3. Reemplazar temporalmente el método 'forward' de la capa por el nuestro (Monkey-Patching)\n",
    "        target_layer.forward = new_forward\n",
    "\n",
    "        # 4. Ejecutar el forward pass. Esto llamará a nuestro 'new_forward' espía.\n",
    "        with torch.no_grad():\n",
    "            dinov2(img_tensor)\n",
    "\n",
    "    finally:\n",
    "        # 5. ¡MUY IMPORTANTE! Restaurar el método 'forward' original después de usarlo.\n",
    "        # Esto asegura que dejamos el modelo en su estado original.\n",
    "        target_layer.forward = original_forward\n",
    "\n",
    "    # 6. Ahora, `attention_store` contiene los pesos que necesitamos, y podemos visualizarlos\n",
    "    if attention_store is None:\n",
    "        print(\"Error: No se pudieron capturar los pesos de atención.\")\n",
    "        return\n",
    "\n",
    "    attentions = attention_store\n",
    "    \n",
    "    # El resto del código de visualización es el mismo\n",
    "    cls_attention = attentions[0, :, 0, 1:].mean(dim=0)\n",
    "    w_featmap = h_featmap = 16\n",
    "    attention_map = cls_attention.reshape(w_featmap, h_featmap).cpu().numpy()\n",
    "    \n",
    "    resized_attention_map = transforms.ToPILImage()(attention_map)\n",
    "    resized_attention_map = resized_attention_map.resize(img.size, Image.BICUBIC)\n",
    "\n",
    "    plt.figure(figsize=(10, 5))\n",
    "    plt.subplot(1, 2, 1)\n",
    "    plt.imshow(img)\n",
    "    plt.title(\"Imagen Original\")\n",
    "    plt.axis('off')\n",
    "\n",
    "    plt.subplot(1, 2, 2)\n",
    "    plt.imshow(img)\n",
    "    plt.imshow(resized_attention_map, cmap='jet', alpha=0.5)\n",
    "    plt.title(\"Mapa de Atención (dónde 'mira' el modelo)\")\n",
    "    plt.axis('off')\n",
    "    \n",
    "    plt.tight_layout()\n",
    "    plt.show()\n",
    "    plt.close()\n",
    "\n",
    "# --- Llamada a la función ---\n",
    "run_attention_map_visualization('../data/imgs/img_1.png')"
   ]
  }
 ],
 "metadata": {
  "kernelspec": {
   "display_name": "base",
   "language": "python",
   "name": "python3"
  },
  "language_info": {
   "codemirror_mode": {
    "name": "ipython",
    "version": 3
   },
   "file_extension": ".py",
   "mimetype": "text/x-python",
   "name": "python",
   "nbconvert_exporter": "python",
   "pygments_lexer": "ipython3",
   "version": "3.10.16"
  }
 },
 "nbformat": 4,
 "nbformat_minor": 5
}
